{
 "cells": [
  {
   "cell_type": "markdown",
   "metadata": {},
   "source": [
    "# Building a TV Frame\n",
    "\n",
    "Several years ago I built a weird looking desk that had a PC and TV built right in. It never progressed beyond 'usable prototype', and was eventually disassembled. The TV had been partially stripped down to fit nicely in the desk's surface, and the old parts were discarded.\n",
    "\n",
    "![](img/old_desk.jpg)\n",
    "\n",
    "Since the TV is still good, I want to design a frame and stand that will allow me to actually use it again.\n",
    "\n",
    "## Requirements\n",
    "\n",
    "The frame must meet the following criteria:\n",
    "\n",
    "* look decent\n",
    "* be of sound construction, meaning: all connections must be *tight* and secure.\n",
    "* cover the loose circuit board on the front\n",
    "* not obstruct any ports on the back of the TV\n",
    "* provide mounting points on the base for a simple stand\n",
    "* allow for standard TV mounting hardware to still fit on the back of the TV\n",
    "\n",
    "## Details and Images\n",
    "\n",
    "Before the design can properly begin, some measurements will be needed. I walked around the shop and discovered a half-used bundle of some interesting material. \n",
    "\n",
    "![](img/raw_material.jpg)\n",
    "\n",
    "After checking that it was actually OK to use a length or two of this (it was), I pulled one length out and measured. The dimensions are shown below.\n",
    "\n",
    "<center>![](img/profile.svg)</center>\n",
    "\n",
    "Conveniently, there is a *work in progress* dxf importer for CadQuery that should make it much simpler to work with 2D objects.\n",
    "\n",
    "So, I made a **.dxf** file very similar to the above SVG, and imported it to create the tube that I'll use to define all of the tv frame's parts."
   ]
  },
  {
   "cell_type": "code",
   "execution_count": null,
   "metadata": {},
   "outputs": [],
   "source": [
    "# make a simple sample piece \n",
    "# to try out the dxf import function\n",
    "sample_tube = (cq.Workplane('XY')\n",
    "               .workplane(offset=-1)\n",
    "               .dxf('downloads/profile.dxf')\n",
    "               .extrude(2)\n",
    "              )\n",
    "\n",
    "show_object(sample_tube)"
   ]
  },
  {
   "cell_type": "markdown",
   "metadata": {},
   "source": [
    "<iframe width=\"650\" height=\"400\" src=\"sample_tube.html?overflow=none\" frameborder=\"0\" allowfullscreen></iframe>\n",
    "<p><a href=\"sample_tube.html\" target=\"_blank\">OPEN SCENE IN NEW TAB</a></p>"
   ]
  },
  {
   "cell_type": "markdown",
   "metadata": {},
   "source": [
    "Alright, it works! Now I can work on the actual design.\n",
    "\n",
    "## Parts Plan\n",
    "\n",
    "This design is going to be a bit more advanced than my [ipad_stand](https://rustyvermeer.github.io/design/ipad_stand/index.html), so I've got a mental picture in mind that will take a few different parts:\n",
    "\n",
    "* outer frame composed of:\n",
    "    * horizontal bar bottom (1x)\n",
    "    * horizontal bar top (1x)\n",
    "    * vertical bar (2x)\n",
    "* inner frame composed of:\n",
    "    * horizontal bar (2x)\n",
    "    * vertical bar (2x)\n",
    "* back lock bar (2x)\n",
    "* stand bar (2x)\n",
    "\n",
    "Naming things is, generally speaking, a difficult thing to do. As such, it's much more sensible to *see* the parts than it is to rely solely on names. The next steps will be defining the CadQuery code to generate all of the parts in the list.    "
   ]
  },
  {
   "cell_type": "markdown",
   "metadata": {},
   "source": [
    "# Outer Frame Horizontals"
   ]
  },
  {
   "cell_type": "code",
   "execution_count": null,
   "metadata": {},
   "outputs": [],
   "source": [
    "L = 31.6772 # comes from width of scrn + offset due to tube dims\n",
    "\n",
    "outer_h = (cq.Workplane('XY')\n",
    "           .workplane(offset=-L/2.0)\n",
    "           .dxf('downloads/profile.dxf')\n",
    "           .extrude(L)\n",
    "          )\n",
    "\n",
    "show_object(outer_h)"
   ]
  },
  {
   "cell_type": "markdown",
   "metadata": {},
   "source": [
    "<iframe width=\"650\" height=\"400\" src=\"outer_h_top.html?overflow=none\" frameborder=\"0\" allowfullscreen></iframe>\n",
    "<p><a href=\"outer_h_top.html\" target=\"_blank\">OPEN SCENE IN NEW TAB</a></p>"
   ]
  },
  {
   "cell_type": "markdown",
   "metadata": {},
   "source": [
    "# Building it for Real\n",
    "\n",
    "Once again I find myself kicking the laser tube cutter into action. I'm extremely lucky to remember how this thing works. As it turns out, I need to be good at last second maintenance for this thing. I had to search the shop for some hydraulic oil to top up the reservoir! Fortunately, everything still works.\n",
    "\n",
    "<center><video style=\"margin-left: 0;\" width=\"300\" height=\"300\" autoplay=\"\" muted=\"\" loop=\"\" controls=\"\">\n",
    "  <source src=\"img/cutting.mp4\" type=\"video/mp4\">\n",
    "</video></center>\n",
    "\n",
    "With all the parts cut, it simply comes down to assembly. The pictures below show the process, more or less. Of course, the struggle of tapping the holes and tightening up all of the screws is not pictured.\n",
    "\n",
    "<iframe width=\"650\" height=\"700\" src=\"img/asm_imgs.html?overflow=none\" frameborder=\"0\" allowfullscreen></iframe>"
   ]
  },
  {
   "cell_type": "markdown",
   "metadata": {},
   "source": [
    "## Final Thoughts\n",
    "\n",
    "I can finally use my TV again. Mission accomplished! I like the industrial look to the whole thing, too; I suspect there's no TV quite like this one.\n",
    "\n",
    "Yet as always, there is room for improvement.\n",
    "\n",
    "### Process Improvements\n",
    "\n",
    "* tapping holes makes for some nice construction, but is tedious to do. Reduce how many bolted connections are needed to reduce this.\n",
    "* it might be good to include more hand-drawn sketch images in these notebooks, to convey the initial thinking phases of my design work. I could alternatively create some basic 2D layout drawings in .dxf format. With that, I could potentially have some fancy import functions that semi-automatically place 3D objects according to some layout drawing. Lot's of potential there, for sure.\n",
    "\n",
    "### Design Improvements\n",
    "\n",
    "* I cut 5 holes for screws in every side. I tried using only 3 holes, and it held things together perfectly, so there was no need for so much cutting.\n",
    "* The 0.5in 'lip' added to the TV does *slightly* interfere with the image when viewing at extreme angles. That fact paired with the reflectivity of the surface can cause some distraction. I only view casually anyway, so this doesn't bother me. It's definitely not good enough for the average consumer, though.\n",
    "* Finishing. I like the industrial look, but it could be out of place in most homes. A nice powder coated finish could look really sharp.\n",
    "* Weight. This thing is **heavy**. I like it that way, but it's certainly excessive. I could strategically cut holes on all inner faces to drastically cut down weight. Or I could make a triangular cut out pattern part of the aesthetic of the frame. As well, I could re-think the front frame portion as a flat sheet or even as a piece of plastic or wood to cut down a lot of weight.\n",
    "    \n",
    "There it is, my design and build of an industrial-strength TV frame. Thanks for reading through my article. If you have any questions or suggestions, I'm glad to listen! Please ask away on my Twitter, [@RustyVermeer](https://www.twitter.com/RustyVermeer)."
   ]
  },
  {
   "cell_type": "code",
   "execution_count": 2,
   "metadata": {},
   "outputs": [
    {
     "name": "stdout",
     "output_type": "stream",
     "text": [
      "[NbConvertApp] Converting notebook tv_frame.ipynb to markdown\n",
      "[NbConvertApp] Writing 5162 bytes to tv_frame.md\n",
      "Created index.html\n"
     ]
    }
   ],
   "source": [
    "!jupyter nbconvert --to markdown tv_frame.ipynb\n",
    "\n",
    "import page_tools as pg\n",
    "pg.generate_page('tv_frame', color='#858a7e')"
   ]
  }
 ],
 "metadata": {
  "kernelspec": {
   "display_name": "Python 2",
   "language": "python",
   "name": "python2"
  },
  "language_info": {
   "codemirror_mode": {
    "name": "ipython",
    "version": 2
   },
   "file_extension": ".py",
   "mimetype": "text/x-python",
   "name": "python",
   "nbconvert_exporter": "python",
   "pygments_lexer": "ipython2",
   "version": "2.7.12"
  }
 },
 "nbformat": 4,
 "nbformat_minor": 2
}
