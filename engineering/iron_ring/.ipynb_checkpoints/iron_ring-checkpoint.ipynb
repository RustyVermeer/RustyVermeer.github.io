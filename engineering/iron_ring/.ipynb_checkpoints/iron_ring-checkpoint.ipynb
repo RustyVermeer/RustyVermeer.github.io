{
 "cells": [
  {
   "cell_type": "markdown",
   "metadata": {},
   "source": [
    "# Iron Ring - A Canadian Engineer's Tradition\n",
    "\n",
    "The iron ring is a symbolic piece worn on the small finger of an engineer's dominant hand. We Canadian Engineers know the ring well, and it's purpose is made clear to us all just prior to graduation from an undergraduate degree in engineering. \n",
    "\n",
    "It's an exciting event, and we all have a good time (perhaps *too* good, for some definition of **good**) in the days leading up to the Iron Ring Ceremony. However, I can confidently say that on the whole we also take the symbolism to heart. The ritual distills in all attending the importance of taking our work seriously as engineers. \n",
    "\n",
    "So what *is* an iron ring, physically?\n",
    "\n",
    "This is mine, posed on... some metal thing.\n",
    "\n",
    "![](img/iron_ring.jpg)\n",
    "\n",
    "It's a simple piece of metal, and it's actually not iron. Admittedly that's kinda strange, but wrought iron tends to react with skin when worn for long periods, so stainless steel is used instead.\n",
    "\n",
    "So that's what an iron ring actually looks like, but the more important thing is what the rings symbolise for their wearers.\n",
    "\n",
    "## The Meaning of the Iron Ring\n",
    "\n",
    "The iron ring serves to remind its wearer of their responsibilities as a professional, stressing the importance of ethical and professional conduct. When an engineer looks at their iron ring, they are reminded of the importance of their work, and the necessity to conduct themselves with honesty, and integrity, while using their skills with pride tempered constantly with humility.\n",
    "\n",
    "Basically, we have to remember to take our jobs seriously. Our designs are not built in a vacuum (unless that's part of the spec). Our decisions affect more than just ourselves. We impact other people's lives, and we should always remember that and let that factor into our calculations.\n",
    "\n",
    "You can read a bit about the [backround](http://ironring.ca/background.php), which has this to say about the object of the Ritual associated with receiving an iron ring:\n",
    "\n",
    "> The Ritual of the Calling of an Engineer has been instituted with the simple end of directing the newly qualified engineer toward a consciousness of the profession and its social significance and indicating to the more experienced engineer their responsibilities in welcoming and supporting the newer engineers when they are ready to enter the profession.\n",
    "\n",
    "## Coding the Iron\n",
    "\n",
    "While I'm here, I may as well provide some code to create a parametric model of the iron ring. It should use the radius and vertical thickness as parameters, in case someone ever wanted to create a drastically different iron ring, I guess.\n",
    "\n",
    "NOTE: This is just for fun. If you want to 3D print a ring, I think that's totally fine. However, it would be in poor taste to recreate an iron ring exactly, as it circumvents the important act of receiving a ring amongst fellow students and engineers. "
   ]
  },
  {
   "cell_type": "code",
   "execution_count": 35,
   "metadata": {},
   "outputs": [
    {
     "data": {
      "application/vnd.jupyter.widget-view+json": {
       "model_id": "7c48417ad8e8493ab7a47a052339c53a"
      }
     },
     "metadata": {},
     "output_type": "display_data"
    },
    {
     "data": {
      "application/vnd.jupyter.widget-view+json": {
       "model_id": "dd70bd869b16433d9062937eb8709c18"
      }
     },
     "metadata": {},
     "output_type": "display_data"
    },
    {
     "data": {
      "application/vnd.jupyter.widget-view+json": {
       "model_id": "e2d391f5441644ceb102ef933d46eac9"
      }
     },
     "metadata": {},
     "output_type": "display_data"
    },
    {
     "data": {
      "application/vnd.jupyter.widget-view+json": {
       "model_id": "8549bb3d6dbd4028bd26b77db271d2fa"
      }
     },
     "metadata": {},
     "output_type": "display_data"
    }
   ],
   "source": [
    "import math\n",
    "\n",
    "# R is outer radius of ring\n",
    "# T is NOT the ring's thickness radially \n",
    "# but vertically, if the ring is resting on a surface\n",
    "# ie, the hollow cylinder that is the ring has a HEIGHT of T\n",
    "R = 9.5\n",
    "T = 3.0\n",
    "\n",
    "# Make a function that radially patterns points\n",
    "def list_points(r, a, N):\n",
    "    '''Radially pattern points\n",
    "    \n",
    "    r: the radius of the circle on which points are placed\n",
    "    a: an offset angle from the x axis, CCW, in degrees\n",
    "    N: number of points to place radially along. \n",
    "       Spaces evenly along full 360 circle\n",
    "    '''\n",
    "    arad = math.radians(a)\n",
    "    theta = math.pi*2 / N\n",
    "    pnts = []\n",
    "    \n",
    "    for i in range(0, N):\n",
    "        coord = (r*math.cos(theta*i + arad), r*math.sin(theta*i + arad))\n",
    "        pnts.append(coord)\n",
    "        \n",
    "    return pnts\n",
    "\n",
    "# Create a plain ring, centered in the plane and around the origin\n",
    "ring = (cq.Workplane(\"XZ\").workplane(offset=(-T/2.0))\n",
    "    .circle(R).extrude(T)\n",
    "    .faces(\"<Y\").workplane(invert=True)\n",
    "    .circle(R-(R*0.145)).cutBlind(T)\n",
    ")\n",
    "\n",
    "# Make spheres on top and bottom of ring\n",
    "# These will be cut away from the ring \n",
    "# To make the 'divets' of an iron ring\n",
    "spheres1 = cq.Workplane(\"XZ\").workplane(offset=(T-0.4))\n",
    "spheres2 = cq.Workplane(\"ZX\").workplane(offset=(T-0.4))\n",
    "\n",
    "for point in list_points((R*1.789), 0, 8):\n",
    "    spheres1 = spheres1.moveTo(point[0], point[1]).sphere(R*0.8526)\n",
    "    \n",
    "for point in list_points((R*1.789), 22.5, 8):\n",
    "    spheres2 = spheres2.moveTo(point[0], point[1]).sphere(R*0.8526)\n",
    "\n",
    "iron_ring = ring.cut(spheres1).cut(spheres2)\n",
    "\n",
    "show_object(iron_ring)"
   ]
  },
  {
   "cell_type": "markdown",
   "metadata": {},
   "source": [
    "<iframe width=\"650\" height=\"500\" src=\"iron_ring.html?overflow=none\" frameborder=\"0\" allowfullscreen></iframe>"
   ]
  },
  {
   "cell_type": "markdown",
   "metadata": {},
   "source": [
    "# Final Words on the Iron Ring\n",
    "\n",
    "I take pride in the fact that I have an Iron Ring. I put in some hard work to receive one, and I wear it all the time. But dedication to professionalism, humility, ethics, and purposeful action take continuous hard work. It's a lifelong committment to being diligent in what I do with my engineering skills. I take this very seriously.\n",
    "\n",
    "I hope over the years I can live up to the requirements of professionalism, and my iron ring reminds me daily to put in that work.\n",
    "\n",
    "To end on a light note, however, I want to also stress that a great sense of joy and accomplishment comes with the territory, too. I get to put time and attention to engaging design projects, I can focus mental efforts on complex engineering questions, and I can use my hands to build awesome things to achieve useful goals in the world. \n",
    "\n",
    "I take engineering very seriously, and I seriously love engineering.\n",
    "\n",
    "I'll leave this quote from Rudyard Kipling, the creator of the Iron Ring Ceremony, because I find it so characteristic of how an engineer tends to think about the world. It's a quote that rings of sincerity from Kipling, yet holds a kind of humour, too as it eschews written works of man in favour of raw materials (an engineer must know their priorities):\n",
    "\n",
    "> The Obligation will be taken on cold iron of honourable tradition, as being a solid substance of proven strength and physical characteristics.  It will not be taken on any other written works of man, but upon a product from nature, used by every engineer. - Kipling"
   ]
  },
  {
   "cell_type": "markdown",
   "metadata": {},
   "source": [
    "### Blurb About the Contents of this Post\n",
    "\n",
    "This post contains python code that is meant to be used with the CadQuery library. It's a script-based CAD system built upon FreeCAD, an open source CAD package. I also created this inside a Jupyter Notebook context and use a python module of my own making to integrate CadQuery into the Notebook environment. It's not perfect, but it works well enough.\n",
    "\n",
    "In this post I have several iframes which are linked to a few a-frame VR scenes. I use these to showcase the parts in browser. It's actually a VR-ready library, so you can actually view the objects in VR if you've got access to that sort of thing.\n",
    "\n",
    "All links to the mentioned software:\n",
    "\n",
    "* [CadQuery Github Page](https://github.com/dcowden/cadquery/tree/9e18b61d645981395e20fa62afd0861e023b865c)\n",
    "* [FreeCAD](https://www.freecadweb.org/)\n",
    "* [Jupyter](http://jupyter.org/)\n",
    "* [CQNB - Jupyter Notebook CadQuery Extension](https://github.com/RustyVermeer/cqnb)\n",
    "* [A-Frame VR](https://aframe.io/)\n",
    "\n",
    "And, if you'd like to get a feel for CadQuery in the context of a Jupyter notebook, you can check out [https://trycadquery.com](https://trycadquery.com). It's a minimal server, set up by me, an admitted novice when it comes to, well, most things, actually. So, please be gentle. \n",
    "\n",
    "## Some Downloads\n",
    "\n",
    "I've attached a few things that you're welcome to download, details and links listed below:\n",
    "\n",
    "* <a href=\"downloads/iron_ring.STEP\" download>iron_ring.step</a>: a CAD file of the iron ring (produced from the code in the post)\n",
    "* <a href=\"downloads/iron_ring.ipynb\" download>iron_ring.ipynb</a>: the source notebook for this post\n",
    "* <a href=\"downloads/iron_ring.py\" download>iron_ring.py</a>: source code for the iron ring, as a python script.\n",
    "\n",
    "Thanks for reading through this short article. I do appreciate you making it this far. If you think someone else you know might like reading this and seeing the code / output in the article, please share it! I'd love that. It's cool if you don't want to either. You know, no pressure. \n",
    "\n",
    "### Thanks\n",
    "\n",
    "You can find me [@RustyVermeer](https://www.twitter.com/RustyVermeer) if you want to engage me directly. Please do, I like that sort of thing."
   ]
  },
  {
   "cell_type": "code",
   "execution_count": 39,
   "metadata": {},
   "outputs": [
    {
     "name": "stdout",
     "output_type": "stream",
     "text": [
      "[NbConvertApp] Converting notebook iron_ring.ipynb to markdown\n",
      "/usr/local/lib/python2.7/dist-packages/nbconvert/filters/datatypefilter.py:41: UserWarning: Your element with mimetype(s) [u'application/vnd.jupyter.widget-view+json'] is not able to be represented.\n",
      "  mimetypes=output.keys())\n",
      "[NbConvertApp] Writing 11261 bytes to iron_ring.md\n"
     ]
    },
    {
     "ename": "IOError",
     "evalue": "[Errno 2] No such file or directory: 'ipad_stand.md'",
     "output_type": "error",
     "traceback": [
      "\u001b[0;31m---------------------------------------------------------------------------\u001b[0m",
      "\u001b[0;31mIOError\u001b[0m                                   Traceback (most recent call last)",
      "\u001b[0;32m<ipython-input-39-66613ca7512c>\u001b[0m in \u001b[0;36m<module>\u001b[0;34m()\u001b[0m\n\u001b[1;32m      2\u001b[0m \u001b[0;34m\u001b[0m\u001b[0m\n\u001b[1;32m      3\u001b[0m \u001b[0;32mimport\u001b[0m \u001b[0mpage_tools\u001b[0m \u001b[0;32mas\u001b[0m \u001b[0mpg\u001b[0m\u001b[0;34m\u001b[0m\u001b[0m\n\u001b[0;32m----> 4\u001b[0;31m \u001b[0mpg\u001b[0m\u001b[0;34m.\u001b[0m\u001b[0mgenerate_page\u001b[0m\u001b[0;34m(\u001b[0m\u001b[0;34m'ipad_stand'\u001b[0m\u001b[0;34m,\u001b[0m \u001b[0mcolor\u001b[0m\u001b[0;34m=\u001b[0m\u001b[0;34m'#FFD637'\u001b[0m\u001b[0;34m)\u001b[0m\u001b[0;34m\u001b[0m\u001b[0m\n\u001b[0m",
      "\u001b[0;32m/home/adam/_modules/page_tools.pyc\u001b[0m in \u001b[0;36mgenerate_page\u001b[0;34m(src, color)\u001b[0m\n\u001b[1;32m     36\u001b[0m \u001b[0;34m\u001b[0m\u001b[0m\n\u001b[1;32m     37\u001b[0m \u001b[0;32mdef\u001b[0m \u001b[0mgenerate_page\u001b[0m\u001b[0;34m(\u001b[0m\u001b[0msrc\u001b[0m\u001b[0;34m,\u001b[0m \u001b[0mcolor\u001b[0m\u001b[0;34m=\u001b[0m\u001b[0mNone\u001b[0m\u001b[0;34m)\u001b[0m\u001b[0;34m:\u001b[0m\u001b[0;34m\u001b[0m\u001b[0m\n\u001b[0;32m---> 38\u001b[0;31m     \u001b[0minput_file\u001b[0m \u001b[0;34m=\u001b[0m \u001b[0mopen\u001b[0m\u001b[0;34m(\u001b[0m\u001b[0msrc\u001b[0m \u001b[0;34m+\u001b[0m \u001b[0;34m'.md'\u001b[0m\u001b[0;34m,\u001b[0m \u001b[0mmode\u001b[0m\u001b[0;34m=\u001b[0m\u001b[0;34m'r'\u001b[0m\u001b[0;34m)\u001b[0m\u001b[0;34m\u001b[0m\u001b[0m\n\u001b[0m\u001b[1;32m     39\u001b[0m     \u001b[0mtext\u001b[0m \u001b[0;34m=\u001b[0m \u001b[0minput_file\u001b[0m\u001b[0;34m.\u001b[0m\u001b[0mread\u001b[0m\u001b[0;34m(\u001b[0m\u001b[0;34m)\u001b[0m\u001b[0;34m.\u001b[0m\u001b[0mreplace\u001b[0m\u001b[0;34m(\u001b[0m\u001b[0;34m'```python'\u001b[0m\u001b[0;34m,\u001b[0m\u001b[0;34m'```'\u001b[0m\u001b[0;34m)\u001b[0m\u001b[0;34m\u001b[0m\u001b[0m\n\u001b[1;32m     40\u001b[0m     content = (markdown.markdown(text, extensions=[GithubFlavoredMarkdownExtension()])\n",
      "\u001b[0;31mIOError\u001b[0m: [Errno 2] No such file or directory: 'ipad_stand.md'"
     ]
    }
   ],
   "source": [
    "!jupyter nbconvert --to markdown iron_ring.ipynb\n",
    "\n",
    "import page_tools as pg\n",
    "pg.generate_page('iron_ring', color='#FFD637')"
   ]
  }
 ],
 "metadata": {
  "kernelspec": {
   "display_name": "Python 2",
   "language": "python",
   "name": "python2"
  },
  "language_info": {
   "codemirror_mode": {
    "name": "ipython",
    "version": 2
   },
   "file_extension": ".py",
   "mimetype": "text/x-python",
   "name": "python",
   "nbconvert_exporter": "python",
   "pygments_lexer": "ipython2",
   "version": "2.7.12"
  }
 },
 "nbformat": 4,
 "nbformat_minor": 2
}
